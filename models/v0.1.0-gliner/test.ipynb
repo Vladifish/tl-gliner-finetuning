{
 "cells": [
  {
   "cell_type": "code",
   "execution_count": 12,
   "id": "be144f46",
   "metadata": {},
   "outputs": [],
   "source": [
    "import os\n",
    "from pathlib import Path\n",
    "from typing import Optional\n",
    "\n",
    "import torch\n",
    "import typer\n",
    "from datasets import load_dataset\n",
    "from gliner import GLiNER\n",
    "from transformers.pytorch_utils import ALL_LAYERNORM_LAYERS\n",
    "from gliner.data_processing.collator import DataCollator\n",
    "from gliner.training import Trainer, TrainingArguments\n",
    "from wasabi import msg"
   ]
  },
  {
   "cell_type": "code",
   "execution_count": 2,
   "id": "29872ee7",
   "metadata": {},
   "outputs": [
    {
     "name": "stderr",
     "output_type": "stream",
     "text": [
      "c:\\Users\\Vladimir\\Documents\\coders\\calamanCy\\.venv\\Lib\\site-packages\\tqdm\\auto.py:21: TqdmWarning: IProgress not found. Please update jupyter and ipywidgets. See https://ipywidgets.readthedocs.io/en/stable/user_install.html\n",
      "  from .autonotebook import tqdm as notebook_tqdm\n"
     ]
    },
    {
     "name": "stdout",
     "output_type": "stream",
     "text": [
      "Text: Isang demograpo ng UPPI ang nagsabing mababa ang pagtaya sa rate ng namamatay sa dalawang rehiyon ayon sa ulat ng Area Fertility Survey.\n",
      "Entities: [('UPPI', 'Organization-Other'), ('dalawang rehiyon', 'Numerical Statistics'), ('Area Fertility Survey', 'Production-Media')]\n",
      "Tokens: ['Isang', 'demograpo', 'ng', 'UPPI', 'ang', 'nagsabing', 'mababa', 'ang', 'pagtaya', 'sa', 'rate', 'ng', 'namamatay', 'sa', 'dalawang', 'rehiyon', 'ayon', 'sa', 'ulat', 'ng', 'Area', 'Fertility', 'Survey', '.']\n",
      "---\n",
      "Text: Isa sa mga huling madyik ni Marcos ay ang pagtatakda ng mga vice chairman ay kandidato ng KBL para sa bawat rehiyon.\n",
      "Entities: [('Marcos', 'Person-Individual'), ('KBL', 'Organization-Political')]\n",
      "Tokens: ['Isa', 'sa', 'mga', 'huling', 'madyik', 'ni', 'Marcos', 'ay', 'ang', 'pagtatakda', 'ng', 'mga', 'vice', 'chairman', 'ay', 'kandidato', 'ng', 'KBL', 'para', 'sa', 'bawat', 'rehiyon', '.']\n",
      "---\n",
      "Text: Sinira ni Christine Jacob, 17 taong gulang na swimmer ng Pilipinas na lalahok sa Olympics, ang dalawang taong rekord ng Pilipinas sa 200-meter freestyle sa isang malaking paligsahan sa Sta. Lucia, California kamakailan.\n",
      "Entities: [('Christine Jacob', 'Person-Individual'), ('Pilipinas', 'Organization-Government'), ('Olympics', 'Event-International'), ('Pilipinas', 'Organization-Government'), ('200-meter', 'Numerical Statistics'), ('Sta. Lucia, California', 'Location')]\n",
      "Tokens: ['Sinira', 'ni', 'Christine', 'Jacob', ',', '17', 'taong', 'gulang', 'na', 'swimmer', 'ng', 'Pilipinas', 'na', 'lalahok', 'sa', 'Olympics', ',', 'ang', 'dalawang', 'taong', 'rekord', 'ng', 'Pilipinas', 'sa', '200-meter', 'freestyle', 'sa', 'isang', 'malaking', 'paligsahan', 'sa', 'Sta', '.', 'Lucia', ',', 'California', 'kamakailan', '.']\n",
      "---\n",
      "Text: Maysakit, nakakulong Ni MANUEL SANCHEZ\n",
      "Entities: [('MANUEL SANCHEZ', 'Person-Individual')]\n",
      "Tokens: ['Maysakit', ',', 'nakakulong', 'Ni', 'MANUEL', 'SANCHEZ']\n",
      "---\n",
      "Text: Ang pangangamkam ng lupa ay isang bahagi lang ng corporate farming na inilunsad ng diktadurang Estados Unidos-Marcos para sa imperyalista, piyudal at burukrata-kapitalistang interes.\n",
      "Entities: [('Estados Unidos-Marcos', 'Production-Doctrine')]\n",
      "Tokens: ['Ang', 'pangangamkam', 'ng', 'lupa', 'ay', 'isang', 'bahagi', 'lang', 'ng', 'corporate', 'farming', 'na', 'inilunsad', 'ng', 'diktadurang', 'Estados', 'Unidos', '-', 'Marcos', 'para', 'sa', 'imperyalista', ',', 'piyudal', 'at', 'burukrata', '-', 'kapitalistang', 'interes', '.']\n",
      "---\n"
     ]
    }
   ],
   "source": [
    "import spacy\n",
    "from spacy.tokens import DocBin\n",
    "\n",
    "# Load the .spacy file\n",
    "doc_bin = DocBin().from_disk(\"../../experiments/corpus/train.spacy\")\n",
    "\n",
    "# You need a language pipeline to reconstruct the Doc objects\n",
    "nlp = spacy.blank(\"en\")  # or the language your corpus uses\n",
    "\n",
    "docs = list(doc_bin.get_docs(nlp.vocab))\n",
    "\n",
    "docs = list(doc_bin.get_docs(nlp.vocab))\n",
    "\n",
    "# Now you can inspect\n",
    "for doc in docs[:5]:  # show first 5\n",
    "    print(\"Text:\", doc.text)\n",
    "    print(\"Entities:\", [(ent.text, ent.label_) for ent in doc.ents])\n",
    "    print(\"Tokens:\", [token.text for token in doc])\n",
    "    print(\"---\")"
   ]
  },
  {
   "cell_type": "code",
   "execution_count": 3,
   "id": "0663ea01",
   "metadata": {},
   "outputs": [],
   "source": [
    "api_token = os.getenv(\"HF_TOKEN\")\n",
    "\n",
    "if not api_token:\n",
    "    msg.fail(\"HF_TOKEN is missing! Won't be able to --push-to-hub\", exits=1)\n",
    "\n",
    "dataset = \"ljvmiranda921/tlunified-ner\"\n",
    "ds = load_dataset(dataset)"
   ]
  },
  {
   "cell_type": "code",
   "execution_count": 11,
   "id": "f5f50bb7",
   "metadata": {},
   "outputs": [
    {
     "name": "stdout",
     "output_type": "stream",
     "text": [
      "{'id': '0', 'tokens': ['Sinabi', 'nito', 'na', 'lantad', 'ang', 'ginagawang', 'pagkuha', 'ng', 'mga', 'tauhan', 'ng', 'MMDA', 'sa', 'mahahalagang', 'gamit', 'ng', 'mga', 'vendors', 'na', 'hindi', 'pinipigil', 'ni', 'Fernando', '.'], 'ner_tags': [0, 0, 0, 0, 0, 0, 0, 0, 0, 0, 0, 3, 0, 0, 0, 0, 0, 0, 0, 0, 0, 0, 1, 0]}\n"
     ]
    }
   ],
   "source": [
    "for entry in ds[\"train\"].take(1):\n",
    "    print(entry)"
   ]
  },
  {
   "cell_type": "code",
   "execution_count": null,
   "id": "06363e8e",
   "metadata": {},
   "outputs": [],
   "source": []
  }
 ],
 "metadata": {
  "kernelspec": {
   "display_name": ".venv (3.13.7)",
   "language": "python",
   "name": "python3"
  },
  "language_info": {
   "codemirror_mode": {
    "name": "ipython",
    "version": 3
   },
   "file_extension": ".py",
   "mimetype": "text/x-python",
   "name": "python",
   "nbconvert_exporter": "python",
   "pygments_lexer": "ipython3",
   "version": "3.13.7"
  }
 },
 "nbformat": 4,
 "nbformat_minor": 5
}
